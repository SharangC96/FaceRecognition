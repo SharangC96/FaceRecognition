{
 "cells": [
  {
   "cell_type": "code",
   "execution_count": null,
   "metadata": {
    "code_folding": [],
    "run_control": {
     "marked": false
    },
    "scrolled": true
   },
   "outputs": [],
   "source": [
    "from Gallery import Gallery\n",
    "import os\n",
    "import matplotlib.pyplot as plt\n",
    "\n",
    "file_no = 4\n",
    "ex = 0\n",
    "\n",
    "if(ex):\n",
    "    train_path = 'Datasets/train_data_ex_4'\n",
    "    test_path = 'Datasets/test_data_ex_4'\n",
    "    \n",
    "else:\n",
    "    train_path = 'Datasets/train_data_'+str(file_no)\n",
    "    test_path = 'Datasets/test_data_'+str(file_no)\n",
    "\n",
    "mygallery = Gallery(train_path,name='testing_4',reuse= False,r=0.84,p=2)"
   ]
  },
  {
   "cell_type": "markdown",
   "metadata": {},
   "source": [
    "# Experiment-1\n",
    "### Training dataset had 423 unique faces with each person having 4 images therefore total of 1696 images. \n",
    "\n",
    "### Test data has 4718 images with atleast one image of these  423 people\n",
    "\n",
    "### VAL should be as high as possible and FAR as low as possible"
   ]
  },
  {
   "cell_type": "code",
   "execution_count": null,
   "metadata": {
    "scrolled": false
   },
   "outputs": [],
   "source": [
    "mygallery.accuracy_dir(test_path)"
   ]
  },
  {
   "cell_type": "markdown",
   "metadata": {},
   "source": [
    "# Experiment-2\n",
    "### Train data is exactly same as above \n",
    "\n",
    "### Test data has 7234 images of 5001 persons with one or more image and it does not contain images of the persons in the training set.\n",
    "\n",
    "### Ideally the results should be \n",
    "### VAL - 0% , FAR - 0% , Cannot Recognize- 100%"
   ]
  },
  {
   "cell_type": "code",
   "execution_count": null,
   "metadata": {},
   "outputs": [],
   "source": [
    "mygallery.accuracy_dir(test_path)"
   ]
  },
  {
   "cell_type": "markdown",
   "metadata": {},
   "source": [
    "## Images of False Accepts of Experiment-1"
   ]
  },
  {
   "cell_type": "code",
   "execution_count": null,
   "metadata": {
    "scrolled": true
   },
   "outputs": [],
   "source": [
    "for (root,folder_name,files) in os.walk(test_path):\n",
    "    for file in files:\n",
    "\n",
    "        image_path = os.path.join(root,file)\n",
    "        real_name = root.split('/')[-1]\n",
    "        try:\n",
    "            predicted_name = mygallery.recognize_image(image_path)[0]\n",
    "            if(real_name != predicted_name):\n",
    "                print('Real Name',real_name,'  Predicted_name:',predicted_name)\n",
    "                plt.imshow(plt.imread(image_path))\n",
    "                plt.show()\n",
    "                \n",
    "                \n",
    "                print('\\n\\nReal Name training images:')\n",
    "                for (a,b,c) in os.walk(os.path.join(train_path,real_name)):\n",
    "                    for file in c:\n",
    "                        plt.imshow(plt.imread(os.path.join(a,file)))\n",
    "                        plt.show()\n",
    "                \n",
    "                if(predicted_name=='Cannot Recognize'):\n",
    "                    print('\\n\\n')\n",
    "                    continue\n",
    "                    \n",
    "                print('\\n\\n Predicted Name training images:')\n",
    "                for (a,b,c) in os.walk(os.path.join(train_path,predicted_name)):\n",
    "                    for file in c:\n",
    "                        plt.imshow(plt.imread(os.path.join(a,file)))\n",
    "                        plt.show()\n",
    "                        \n",
    "                print('\\n\\n')\n",
    "        except:\n",
    "            print(\"This isn't an image\",image_path)\n",
    "        \n",
    "       "
   ]
  },
  {
   "cell_type": "code",
   "execution_count": null,
   "metadata": {
    "code_folding": [],
    "run_control": {
     "marked": false
    },
    "scrolled": true
   },
   "outputs": [],
   "source": [
    "from Gallery import Gallery\n",
    "import os\n",
    "import matplotlib.pyplot as plt\n",
    "\n",
    "file_no = 4\n",
    "ex = 0\n",
    "\n",
    "\n",
    "train_path = 'Datasets/Personal'\n",
    "mygallery = Gallery(train_path,name='personal',reuse= False,r=0.84,p=2)"
   ]
  },
  {
   "cell_type": "code",
   "execution_count": null,
   "metadata": {},
   "outputs": [],
   "source": [
    "mygallery.recognize_image('test.jpg')"
   ]
  }
 ],
 "metadata": {
  "kernelspec": {
   "display_name": "Python 3",
   "language": "python",
   "name": "python3"
  },
  "language_info": {
   "codemirror_mode": {
    "name": "ipython",
    "version": 3
   },
   "file_extension": ".py",
   "mimetype": "text/x-python",
   "name": "python",
   "nbconvert_exporter": "python",
   "pygments_lexer": "ipython3",
   "version": "3.6.4"
  },
  "varInspector": {
   "cols": {
    "lenName": 16,
    "lenType": 16,
    "lenVar": 40
   },
   "kernels_config": {
    "python": {
     "delete_cmd_postfix": "",
     "delete_cmd_prefix": "del ",
     "library": "var_list.py",
     "varRefreshCmd": "print(var_dic_list())"
    },
    "r": {
     "delete_cmd_postfix": ") ",
     "delete_cmd_prefix": "rm(",
     "library": "var_list.r",
     "varRefreshCmd": "cat(var_dic_list()) "
    }
   },
   "types_to_exclude": [
    "module",
    "function",
    "builtin_function_or_method",
    "instance",
    "_Feature"
   ],
   "window_display": false
  }
 },
 "nbformat": 4,
 "nbformat_minor": 2
}
